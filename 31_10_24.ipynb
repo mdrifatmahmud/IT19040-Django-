{
  "nbformat": 4,
  "nbformat_minor": 0,
  "metadata": {
    "colab": {
      "provenance": [],
      "toc_visible": true,
      "authorship_tag": "ABX9TyMjzwxpQVQ0FuRbl/sZiYna",
      "include_colab_link": true
    },
    "kernelspec": {
      "name": "python3",
      "display_name": "Python 3"
    },
    "language_info": {
      "name": "python"
    }
  },
  "cells": [
    {
      "cell_type": "markdown",
      "metadata": {
        "id": "view-in-github",
        "colab_type": "text"
      },
      "source": [
        "<a href=\"https://colab.research.google.com/github/mdrifatmahmud/IT19040-Django-/blob/main/31_10_24.ipynb\" target=\"_parent\"><img src=\"https://colab.research.google.com/assets/colab-badge.svg\" alt=\"Open In Colab\"/></a>"
      ]
    },
    {
      "cell_type": "markdown",
      "source": [],
      "metadata": {
        "id": "s2BQdy0cuBgQ"
      }
    },
    {
      "cell_type": "code",
      "source": [
        "!wget -O Calculator.py https://github.com/rahmanziaur/EDGEICT/raw/main/Calculator.py # Download and save the file in current directory\n",
        "import Calculator # Import by filename only"
      ],
      "metadata": {
        "colab": {
          "base_uri": "https://localhost:8080/"
        },
        "id": "ZSOQic5T0knz",
        "outputId": "d4d0e38c-5a9f-489b-d788-5592b29c9b1e"
      },
      "execution_count": 9,
      "outputs": [
        {
          "output_type": "stream",
          "name": "stdout",
          "text": [
            "--2024-10-31 09:05:12--  https://github.com/rahmanziaur/EDGEICT/raw/main/Calculator.py\n",
            "Resolving github.com (github.com)... 140.82.114.3\n",
            "Connecting to github.com (github.com)|140.82.114.3|:443... connected.\n",
            "HTTP request sent, awaiting response... 302 Found\n",
            "Location: https://raw.githubusercontent.com/rahmanziaur/EDGEICT/main/Calculator.py [following]\n",
            "--2024-10-31 09:05:12--  https://raw.githubusercontent.com/rahmanziaur/EDGEICT/main/Calculator.py\n",
            "Resolving raw.githubusercontent.com (raw.githubusercontent.com)... 185.199.108.133, 185.199.111.133, 185.199.109.133, ...\n",
            "Connecting to raw.githubusercontent.com (raw.githubusercontent.com)|185.199.108.133|:443... connected.\n",
            "HTTP request sent, awaiting response... 200 OK\n",
            "Length: 167 [text/plain]\n",
            "Saving to: ‘Calculator.py’\n",
            "\n",
            "Calculator.py       100%[===================>]     167  --.-KB/s    in 0s      \n",
            "\n",
            "2024-10-31 09:05:12 (2.76 MB/s) - ‘Calculator.py’ saved [167/167]\n",
            "\n"
          ]
        }
      ]
    },
    {
      "cell_type": "markdown",
      "source": [],
      "metadata": {
        "id": "60Uoq0EJ6Zu3"
      }
    },
    {
      "cell_type": "markdown",
      "source": [
        "array"
      ],
      "metadata": {
        "id": "UaHqSNWf0upW"
      }
    },
    {
      "cell_type": "code",
      "source": [
        "import numpy as np\n",
        "test = np.array ( [1,2,3])\n",
        "q=15\n",
        "for i in test:\n",
        "  print (str(i) +\"\\n\")\n",
        "  print(q)"
      ],
      "metadata": {
        "colab": {
          "base_uri": "https://localhost:8080/"
        },
        "id": "QRvn4xCa000i",
        "outputId": "1592e77d-169d-4366-8ba5-307c6993675a"
      },
      "execution_count": 14,
      "outputs": [
        {
          "output_type": "stream",
          "name": "stdout",
          "text": [
            "1\n",
            "\n",
            "15\n",
            "2\n",
            "\n",
            "15\n",
            "3\n",
            "\n",
            "15\n"
          ]
        }
      ]
    },
    {
      "cell_type": "code",
      "source": [
        "#test a type\n",
        "type (test)\n",
        "test.shape\n",
        "test.ndim\n",
        "test.dtype"
      ],
      "metadata": {
        "colab": {
          "base_uri": "https://localhost:8080/"
        },
        "id": "HHqmbR1f2MOQ",
        "outputId": "0a93140a-e985-49b8-9cd2-6b1f6a332a02"
      },
      "execution_count": 18,
      "outputs": [
        {
          "output_type": "execute_result",
          "data": {
            "text/plain": [
              "dtype('int64')"
            ]
          },
          "metadata": {},
          "execution_count": 18
        }
      ]
    },
    {
      "cell_type": "code",
      "source": [
        "test1=np.array ([[1,2,3],[4,5,6]])\n",
        "test1"
      ],
      "metadata": {
        "colab": {
          "base_uri": "https://localhost:8080/"
        },
        "id": "JRhf__l92pdK",
        "outputId": "8e03569b-400f-4fe3-8200-dc7f4963f61a"
      },
      "execution_count": 19,
      "outputs": [
        {
          "output_type": "execute_result",
          "data": {
            "text/plain": [
              "array([[1, 2, 3],\n",
              "       [4, 5, 6]])"
            ]
          },
          "metadata": {},
          "execution_count": 19
        }
      ]
    },
    {
      "cell_type": "code",
      "source": [
        "test2= np.array ([[1,2,3],[4,5,6],[4,5,6]], dtype=object)\n",
        "print(test2)"
      ],
      "metadata": {
        "colab": {
          "base_uri": "https://localhost:8080/"
        },
        "id": "B9xHJrwd3W1s",
        "outputId": "c9af5b77-cf9b-47d1-eba3-ca2e3cf12c5e"
      },
      "execution_count": 24,
      "outputs": [
        {
          "output_type": "stream",
          "name": "stdout",
          "text": [
            "[[1 2 3]\n",
            " [4 5 6]\n",
            " [4 5 6]]\n"
          ]
        }
      ]
    },
    {
      "cell_type": "code",
      "source": [
        "#3d array print\n",
        "\n",
        "array_3d = np.array([[[1, 2, 3, 4],\n",
        "                      [5, 6, 7, 8],\n",
        "                      [9, 10, 11, 12]],\n",
        "\n",
        "                     [[13, 14, 15, 16],\n",
        "                      [17, 18, 19, 20],\n",
        "                      [21, 22, 23, 24]]])\n",
        "for layer in array_3d:\n",
        "    print(layer)"
      ],
      "metadata": {
        "colab": {
          "base_uri": "https://localhost:8080/"
        },
        "id": "rp_HCknH31_t",
        "outputId": "edf12159-e1d5-42c8-f5ee-7dbf58920a6b"
      },
      "execution_count": 29,
      "outputs": [
        {
          "output_type": "stream",
          "name": "stdout",
          "text": [
            "[[ 1  2  3  4]\n",
            " [ 5  6  7  8]\n",
            " [ 9 10 11 12]]\n",
            "[[13 14 15 16]\n",
            " [17 18 19 20]\n",
            " [21 22 23 24]]\n"
          ]
        }
      ]
    },
    {
      "cell_type": "code",
      "source": [
        "for i, matrix in enumerate(array_3d):\n",
        "    print(f\"Matrix {i}:\")\n",
        "    for row in matrix:\n",
        "        print(row)\n",
        "    print()"
      ],
      "metadata": {
        "colab": {
          "base_uri": "https://localhost:8080/"
        },
        "id": "pCzrwu1a5lp0",
        "outputId": "14257b5c-2424-46c4-b6d0-0482918b9771"
      },
      "execution_count": 30,
      "outputs": [
        {
          "output_type": "stream",
          "name": "stdout",
          "text": [
            "Matrix 0:\n",
            "[1 2 3 4]\n",
            "[5 6 7 8]\n",
            "[ 9 10 11 12]\n",
            "\n",
            "Matrix 1:\n",
            "[13 14 15 16]\n",
            "[17 18 19 20]\n",
            "[21 22 23 24]\n",
            "\n"
          ]
        }
      ]
    },
    {
      "cell_type": "code",
      "source": [
        "array_3d.shape\n",
        "array_3d.ndim\n"
      ],
      "metadata": {
        "colab": {
          "base_uri": "https://localhost:8080/"
        },
        "id": "qWgymWhf54w_",
        "outputId": "b708e430-4f84-41db-e86b-116276e16513"
      },
      "execution_count": 33,
      "outputs": [
        {
          "output_type": "execute_result",
          "data": {
            "text/plain": [
              "3"
            ]
          },
          "metadata": {},
          "execution_count": 33
        }
      ]
    }
  ]
}