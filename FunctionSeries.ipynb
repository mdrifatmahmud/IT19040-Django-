{
  "nbformat": 4,
  "nbformat_minor": 0,
  "metadata": {
    "colab": {
      "provenance": [],
      "toc_visible": true,
      "authorship_tag": "ABX9TyMGTFCDNyXwLAP2F9xT080k",
      "include_colab_link": true
    },
    "kernelspec": {
      "name": "python3",
      "display_name": "Python 3"
    },
    "language_info": {
      "name": "python"
    }
  },
  "cells": [
    {
      "cell_type": "markdown",
      "metadata": {
        "id": "view-in-github",
        "colab_type": "text"
      },
      "source": [
        "<a href=\"https://colab.research.google.com/github/mdrifatmahmud/IT19040-Django-/blob/main/FunctionSeries.ipynb\" target=\"_parent\"><img src=\"https://colab.research.google.com/assets/colab-badge.svg\" alt=\"Open In Colab\"/></a>"
      ]
    },
    {
      "cell_type": "code",
      "source": [
        "n = int(input(\"Enter a value for n: \"))\n",
        "\n",
        "sum_n = 0\n",
        "\n",
        "for i in range(1, n + 1):\n",
        "    sum_n += i\n",
        "\n",
        "print(\"Sum of first\", n, \"natural numbers is:\", sum_n)"
      ],
      "metadata": {
        "colab": {
          "base_uri": "https://localhost:8080/"
        },
        "id": "AuLaJBtz7CP3",
        "outputId": "35db3617-f110-4962-bf28-66c9ed27e657"
      },
      "execution_count": 6,
      "outputs": [
        {
          "output_type": "stream",
          "name": "stdout",
          "text": [
            "Enter a value for n: 50\n",
            "Sum of first 50 natural numbers is: 1275\n"
          ]
        }
      ]
    }
  ]
}